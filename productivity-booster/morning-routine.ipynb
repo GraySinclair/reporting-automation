{
 "cells": [
  {
   "cell_type": "markdown",
   "metadata": {},
   "source": [
    "CSVs generated without issue\n",
    "TODO:\n",
    "- strip garbage data(delete TOP 20, 60+Previous)\n",
    "- separate into csvs\n",
    "- column shuffle optimization for shared files\n",
    "- import yesterdays notes\n",
    "- save file with formatted date\n",
    "- correct xlsx extention\n",
    "- "
   ]
  },
  {
   "cell_type": "code",
   "execution_count": 6,
   "metadata": {},
   "outputs": [],
   "source": [
    "import pandas as pd\n",
    "import os"
   ]
  },
  {
   "cell_type": "code",
   "execution_count": null,
   "metadata": {},
   "outputs": [
    {
     "name": "stdout",
     "output_type": "stream",
     "text": [
      "test-ITEMS.csv created\n",
      "test-Customer Totals.csv created\n",
      "test-Credits.csv created\n",
      "test-Top 20 60+Previous.csv created\n"
     ]
    }
   ],
   "source": [
    "daily_ar = 'test-ar.xlsx'\n",
    "\n",
    "sheets = pd.read_excel(daily_ar, sheet_name=None)\n",
    "\n",
    "for sheet_name, df in sheets.items():\n",
    "    df.to_csv(f'test-{sheet_name}.csv', index=False)\n",
    "    print(f'test-{sheet_name}.csv created')"
   ]
  },
  {
   "cell_type": "code",
   "execution_count": 7,
   "metadata": {},
   "outputs": [],
   "source": [
    "delete_path = '/Users/gray/Downloads/test-Top 20 60+Previous.csv'\n",
    "if os.path.exists(delete_path):\n",
    "    os.remove(delete_path)\n",
    "    print(f'{delete_path} removed')"
   ]
  }
 ],
 "metadata": {
  "kernelspec": {
   "display_name": "venv",
   "language": "python",
   "name": "python3"
  },
  "language_info": {
   "codemirror_mode": {
    "name": "ipython",
    "version": 3
   },
   "file_extension": ".py",
   "mimetype": "text/x-python",
   "name": "python",
   "nbconvert_exporter": "python",
   "pygments_lexer": "ipython3",
   "version": "3.13.1"
  }
 },
 "nbformat": 4,
 "nbformat_minor": 2
}
